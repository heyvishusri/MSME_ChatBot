{
 "cells": [
  {
   "cell_type": "code",
   "execution_count": 2,
   "metadata": {},
   "outputs": [],
   "source": [
    "import chromadb\n",
    "chroma_client = chromadb.Client()\n"
   ]
  },
  {
   "cell_type": "code",
   "execution_count": 3,
   "metadata": {},
   "outputs": [],
   "source": [
    "collection = chroma_client.create_collection(name=\"my_collection\")\n"
   ]
  },
  {
   "cell_type": "code",
   "execution_count": null,
   "metadata": {},
   "outputs": [],
   "source": [
    "# chroma_client.delete_collection(name=\"my_collection\")"
   ]
  },
  {
   "cell_type": "code",
   "execution_count": 5,
   "metadata": {},
   "outputs": [],
   "source": [
    "collection.add(\n",
    "    ids=[\"id1\", \"id2\",\"id3\",\"id4\"],\n",
    "    documents=[\n",
    "        # \"This is a document about pineapple\",\n",
    "        # \"This is a document about oranges\"\n",
    "        \"Hello World, I'm Vishu\",\n",
    "        \"Hello, I'm learning ChromaDB\",\n",
    "        \"Hello, I'm learning ChromaDB. This document contains a query about hawaii.\",  # Chroma will embed this for you\n",
    "        \"Hello,This document contain large space\"\n",
    "\n",
    "       \n",
    "    ],\n",
    "    \n",
    ")\n"
   ]
  },
  {
   "cell_type": "code",
   "execution_count": 7,
   "metadata": {},
   "outputs": [
    {
     "name": "stdout",
     "output_type": "stream",
     "text": [
      "{'ids': [['id2', 'id3', 'id1']], 'distances': [[0.0, 1.1861640214920044, 1.5264867544174194]], 'metadatas': [[None, None, None]], 'embeddings': None, 'documents': [[\"Hello, I'm learning ChromaDB\", \"Hello, I'm learning ChromaDB. This document contains a query about hawaii.\", \"Hello World, I'm Vishu\"]], 'uris': None, 'data': None, 'included': ['metadatas', 'documents', 'distances']}\n"
     ]
    }
   ],
   "source": [
    "results = collection.query(\n",
    "    # query_texts=[\"This is a query document about hawaii\"], # Chroma will embed this for you\n",
    "    query_texts=[\"Hello, I'm learning ChromaDB\"], # Chroma will embed this for you\n",
    "    n_results=3 # how many results to return\n",
    "    \n",
    ")\n",
    "print(results)\n"
   ]
  },
  {
   "cell_type": "code",
   "execution_count": 8,
   "metadata": {},
   "outputs": [],
   "source": [
    "client = chromadb.PersistentClient(path=\"D:\\MSME_ChatBot\")\n"
   ]
  },
  {
   "cell_type": "code",
   "execution_count": null,
   "metadata": {},
   "outputs": [],
   "source": [
    "# import asyncio\n",
    "# import chromadb\n",
    "\n",
    "# async def main():\n",
    "#     client = await chromadb.AsyncHttpClient()\n",
    "#     collection = await client.create_collection(name=\"my_collection\")\n",
    "\n",
    "#     await collection.add(\n",
    "#         documents=[\"hello world\"],\n",
    "#         ids=[\"id1\"]\n",
    "#     )\n",
    "\n",
    "# asyncio.run(main())\n"
   ]
  },
  {
   "cell_type": "code",
   "execution_count": null,
   "metadata": {},
   "outputs": [],
   "source": [
    "collection.peek() # returns a list of the first 10 items in the collection\n",
    "# collection.count() # returns the number of items in the collection\n",
    "# collection.modify(name=\"new_name\") # Rename the collection\n"
   ]
  },
  {
   "cell_type": "code",
   "execution_count": 11,
   "metadata": {},
   "outputs": [
    {
     "data": {
      "text/plain": [
       "4"
      ]
     },
     "execution_count": 11,
     "metadata": {},
     "output_type": "execute_result"
    }
   ],
   "source": [
    "collection.count()"
   ]
  }
 ],
 "metadata": {
  "kernelspec": {
   "display_name": "msme",
   "language": "python",
   "name": "python3"
  },
  "language_info": {
   "codemirror_mode": {
    "name": "ipython",
    "version": 3
   },
   "file_extension": ".py",
   "mimetype": "text/x-python",
   "name": "python",
   "nbconvert_exporter": "python",
   "pygments_lexer": "ipython3",
   "version": "3.10.15"
  }
 },
 "nbformat": 4,
 "nbformat_minor": 2
}
